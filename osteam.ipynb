{
 "cells": [
  {
   "cell_type": "markdown",
   "metadata": {
    "colab_type": "text",
    "id": "view-in-github"
   },
   "source": [
    "<a href=\"https://colab.research.google.com/github/Skduddldpdy/Clothing_Recommendation/blob/main/osteam.ipynb\" target=\"_parent\"><img src=\"https://colab.research.google.com/assets/colab-badge.svg\" alt=\"Open In Colab\"/></a>"
   ]
  },
  {
   "cell_type": "code",
   "execution_count": null,
   "metadata": {
    "colab": {
     "base_uri": "https://localhost:8080/"
    },
    "id": "IoIhgMVMTrVl",
    "outputId": "ca37dea3-1704-4a57-e126-8c8d7f95ca2e"
   },
   "outputs": [
    {
     "name": "stderr",
     "output_type": "stream",
     "text": [
      "Some weights of BertForSequenceClassification were not initialized from the model checkpoint at bert-base-uncased and are newly initialized: ['classifier.bias', 'classifier.weight']\n",
      "You should probably TRAIN this model on a down-stream task to be able to use it for predictions and inference.\n"
     ]
    },
    {
     "name": "stdout",
     "output_type": "stream",
     "text": [
      "Enter the season (spring, summer, autumn, winter): winter\n",
      "Are you female or male? male\n",
      "Describe your style preference: hot\n",
      "We recommend: Thermal wear for winter based on your input.\n",
      "[{'label': 'LABEL_1', 'score': 0.6806684136390686}]\n"
     ]
    }
   ],
   "source": [
    "from sentence_transformers import SentenceTransformer, util\n",
    "from transformers import pipeline\n",
    "# 시작\n",
    "# 모델 로드\n",
    "model = SentenceTransformer('all-MiniLM-L6-v2')\n",
    "nlp_model = pipeline(\"text-classification\", model=\"bert-base-uncased\")\n",
    "\n",
    "\n",
    "# 계절별 추천 의상 데이터베이스 구현\n",
    "outfit_database = {\n",
    "    \"spring\": {\n",
    "        \"female\": [\"Floral dresses\", \"Cotton cardigans\", \"Light blouses\", \"Wrap dresses\", \"Chiffon blouses\"],\n",
    "        \"male\": [\"Light jackets\", \"Cotton shirts\", \"Chinos\", \"Trench coats\", \"Oxford shirts\"]\n",
    "    },\n",
    "    \"summer\": {\n",
    "        \"female\": [\"Summer dresses\", \"Short skirts\", \"Tank tops\", \"Slip dresses\", \"Denim skirts\"],\n",
    "        \"male\": [\"T-shirts\", \"Shorts\", \"Polo shirts\", \"Henley shirts\", \"Chino shorts\"]\n",
    "    },\n",
    "    \"autumn\": {\n",
    "        \"female\": [\"Knitted sweaters\", \"Leather jackets\", \"Pleated skirts\", \"Turtleneck sweaters\", \"Midi skirts\"],\n",
    "        \"male\": [\"Sweaters\", \"Denim jackets\", \"Jeans\", \"Cardigan sweaters\", \"Slim-fit jeans\"]\n",
    "    },\n",
    "    \"winter\": {\n",
    "        \"female\": [\"Wool coats\", \"Thermal leggings\", \"Scarves\", \"Fleece-lined leggings\", \"Cashmere scarves\"],\n",
    "        \"male\": [\"Coats\", \"Thermal wear\", \"Woolen scarves\", \"Peacoats\", \"Base layer tops\"]\n",
    "    }\n",
    "}\n",
    "\n",
    "def recommend_outfit(season: str, gender: str, user_input: str):\n",
    "    # 사용자가 고른 계절의 의상 목록\n",
    "    if season not in outfit_database:\n",
    "        return \"Invalid season. Please choose from spring, summer, autumn, or winter.\"\n",
    "    if gender not in [\"female\", \"male\"]:\n",
    "        return \"Invalid gender. Please choose 'female' or 'male'.\"\n",
    "\n",
    "    outfits = outfit_database[season][gender]\n",
    "\n",
    "    # 사용자 입력과 의상 문장들을 임베딩\n",
    "    user_embedding = model.encode([user_input])\n",
    "    outfit_embeddings = model.encode(outfits)\n",
    "\n",
    "    # 유사도 계산\n",
    "    similarities = util.cos_sim(user_embedding, outfit_embeddings)[0]\n",
    "\n",
    "    # 가장 유사한 의상 추천\n",
    "    best_match_index = similarities.argmax()\n",
    "    recommended_outfit = outfits[best_match_index]\n",
    "    return f\"We recommend: {recommended_outfit} for {season} based on your input.\"\n",
    "\n",
    "# 예제 실행\n",
    "season = input(\"Enter the season (spring, summer, autumn, winter): \").strip().lower()\n",
    "gender = input(\"Are you female or male? \").strip().lower()\n",
    "user_input = input(\"Describe your style preference: \").strip()\n",
    "\n",
    "recommendation = recommend_outfit(season, gender, user_input)\n",
    "print(recommendation)\n",
    "\n",
    "result = nlp_model(user_input)\n",
    "print(result)"
   ]
  }
 ],
 "metadata": {
  "colab": {
   "include_colab_link": true,
   "provenance": []
  },
  "kernelspec": {
   "display_name": "Python 3",
   "name": "python3"
  },
  "language_info": {
   "name": "python"
  }
 },
 "nbformat": 4,
 "nbformat_minor": 0
}
