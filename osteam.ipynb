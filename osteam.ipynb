{
  "nbformat": 4,
  "nbformat_minor": 0,
  "metadata": {
    "colab": {
      "provenance": [],
      "authorship_tag": "ABX9TyM6x0PLz0XPmOArCbYzZy80",
      "include_colab_link": true
    },
    "kernelspec": {
      "name": "python3",
      "display_name": "Python 3"
    },
    "language_info": {
      "name": "python"
    }
  },
  "cells": [
    {
      "cell_type": "markdown",
      "metadata": {
        "id": "view-in-github",
        "colab_type": "text"
      },
      "source": [
        "<a href=\"https://colab.research.google.com/github/Skduddldpdy/Writing_System/blob/main/osteam.ipynb\" target=\"_parent\"><img src=\"https://colab.research.google.com/assets/colab-badge.svg\" alt=\"Open In Colab\"/></a>"
      ]
    },
    {
      "cell_type": "code",
      "execution_count": 3,
      "metadata": {
        "colab": {
          "base_uri": "https://localhost:8080/"
        },
        "id": "IoIhgMVMTrVl",
        "outputId": "4691c73d-42f4-4726-aed3-49c6a823691b"
      },
      "outputs": [
        {
          "output_type": "stream",
          "name": "stdout",
          "text": [
            "Enter the season (spring, summer, autumn, winter): summer\n",
            "Describe your style preference: hiphop\n",
            "We recommend: T-shirts for summer based on your input.\n"
          ]
        }
      ],
      "source": [
        "from sentence_transformers import SentenceTransformer, util\n",
        "\n",
        "# 모델 로드\n",
        "model = SentenceTransformer('all-MiniLM-L6-v2')\n",
        "\n",
        "# 계절별 추천 의상 데이터베이스\n",
        "outfit_database = {\n",
        "    \"spring\": [\"Light jackets\", \"Floral dresses\", \"Cotton cardigans\"],\n",
        "    \"summer\": [\"T-shirts\", \"Light cotton shirts\", \"Shorts\"],\n",
        "    \"autumn\": [\"Sweaters\", \"Leather jackets\", \"Jeans\"],\n",
        "    \"winter\": [\"Coats\", \"Thermal wear\", \"Woolen scarves\"]\n",
        "}\n",
        "\n",
        "def recommend_outfit(season: str, user_input: str):\n",
        "    # 사용자가 고른 계절의 의상 목록\n",
        "    if season not in outfit_database:\n",
        "        return \"Invalid season. Please choose from spring, summer, autumn, or winter.\"\n",
        "\n",
        "    outfits = outfit_database[season]\n",
        "\n",
        "    # 사용자 입력과 의상 문장들을 임베딩\n",
        "    user_embedding = model.encode([user_input])\n",
        "    outfit_embeddings = model.encode(outfits)\n",
        "\n",
        "    # 유사도 계산\n",
        "    similarities = util.cos_sim(user_embedding, outfit_embeddings)[0]\n",
        "\n",
        "    # 가장 유사한 의상 추천\n",
        "    best_match_index = similarities.argmax()\n",
        "    recommended_outfit = outfits[best_match_index]\n",
        "    return f\"We recommend: {recommended_outfit} for {season} based on your input.\"\n",
        "\n",
        "# 예제 실행\n",
        "season = input(\"Enter the season (spring, summer, autumn, winter): \").strip().lower()\n",
        "user_input = input(\"Describe your style preference: \").strip()\n",
        "\n",
        "recommendation = recommend_outfit(season, user_input)\n",
        "print(recommendation)"
      ]
    }
  ]
}